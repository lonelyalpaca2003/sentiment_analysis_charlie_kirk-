{
 "cells": [
  {
   "cell_type": "code",
   "execution_count": 2,
   "id": "dac0e82e",
   "metadata": {},
   "outputs": [
    {
     "name": "stderr",
     "output_type": "stream",
     "text": [
      "/opt/anaconda3/envs/nlp_env/lib/python3.14/site-packages/tqdm/auto.py:21: TqdmWarning: IProgress not found. Please update jupyter and ipywidgets. See https://ipywidgets.readthedocs.io/en/stable/user_install.html\n",
      "  from .autonotebook import tqdm as notebook_tqdm\n"
     ]
    }
   ],
   "source": [
    "import pandas as pd \n",
    "import matplotlib.pyplot as plt \n",
    "import seaborn as sns \n",
    "from nltk.sentiment import SentimentAnalyzer\n",
    "from nltk.sentiment.vader import SentimentIntensityAnalyzer\n",
    "from nltk.classify import NaiveBayesClassifier, svm\n",
    "from nltk.stem import PorterStemmer\n",
    "from nltk.corpus import stopwords\n",
    "import textblob\n",
    "import transformers"
   ]
  },
  {
   "cell_type": "code",
   "execution_count": 3,
   "id": "11b497f4",
   "metadata": {},
   "outputs": [],
   "source": [
    "df = pd.read_csv('../data/data.csv')\n",
    "authors_df = pd.read_csv(\"../data/authors.csv\")"
   ]
  },
  {
   "cell_type": "code",
   "execution_count": 4,
   "id": "32ea3545",
   "metadata": {},
   "outputs": [
    {
     "data": {
      "text/html": [
       "<div>\n",
       "<style scoped>\n",
       "    .dataframe tbody tr th:only-of-type {\n",
       "        vertical-align: middle;\n",
       "    }\n",
       "\n",
       "    .dataframe tbody tr th {\n",
       "        vertical-align: top;\n",
       "    }\n",
       "\n",
       "    .dataframe thead th {\n",
       "        text-align: right;\n",
       "    }\n",
       "</style>\n",
       "<table border=\"1\" class=\"dataframe\">\n",
       "  <thead>\n",
       "    <tr style=\"text-align: right;\">\n",
       "      <th></th>\n",
       "      <th>pseudo_id</th>\n",
       "      <th>text</th>\n",
       "      <th>retweetCount</th>\n",
       "      <th>replyCount</th>\n",
       "      <th>likeCount</th>\n",
       "      <th>quoteCount</th>\n",
       "      <th>viewCount</th>\n",
       "      <th>bookmarkCount</th>\n",
       "      <th>createdAt</th>\n",
       "      <th>lang</th>\n",
       "      <th>isReply</th>\n",
       "      <th>pseudo_conversationId</th>\n",
       "      <th>pseudo_inReplyToUsername</th>\n",
       "      <th>pseudo_author_userName</th>\n",
       "      <th>quoted_pseudo_id</th>\n",
       "      <th>author_isBlueVerified</th>\n",
       "    </tr>\n",
       "  </thead>\n",
       "  <tbody>\n",
       "    <tr>\n",
       "      <th>0</th>\n",
       "      <td>335098644261566</td>\n",
       "      <td>CLEARLY WHY ROBINSO. KILLED CHARLIE KIRK\\nChec...</td>\n",
       "      <td>0</td>\n",
       "      <td>0</td>\n",
       "      <td>0</td>\n",
       "      <td>0</td>\n",
       "      <td>0</td>\n",
       "      <td>0</td>\n",
       "      <td>2025-09-13 00:12:32+00:00</td>\n",
       "      <td>en</td>\n",
       "      <td>False</td>\n",
       "      <td>335098644261566</td>\n",
       "      <td>NaN</td>\n",
       "      <td>683805731746893</td>\n",
       "      <td>NaN</td>\n",
       "      <td>False</td>\n",
       "    </tr>\n",
       "    <tr>\n",
       "      <th>1</th>\n",
       "      <td>993437939265218</td>\n",
       "      <td>@695242549121979 Charlie Kirk didn’t deserve t...</td>\n",
       "      <td>0</td>\n",
       "      <td>0</td>\n",
       "      <td>0</td>\n",
       "      <td>0</td>\n",
       "      <td>0</td>\n",
       "      <td>0</td>\n",
       "      <td>2025-09-13 00:12:32+00:00</td>\n",
       "      <td>en</td>\n",
       "      <td>True</td>\n",
       "      <td>480787180308238</td>\n",
       "      <td>6.952425e+14</td>\n",
       "      <td>772698505691224</td>\n",
       "      <td>NaN</td>\n",
       "      <td>False</td>\n",
       "    </tr>\n",
       "    <tr>\n",
       "      <th>2</th>\n",
       "      <td>51368227215922</td>\n",
       "      <td>@396187379099632 @576794151260665 Post them he...</td>\n",
       "      <td>0</td>\n",
       "      <td>0</td>\n",
       "      <td>0</td>\n",
       "      <td>0</td>\n",
       "      <td>0</td>\n",
       "      <td>0</td>\n",
       "      <td>2025-09-13 00:12:32+00:00</td>\n",
       "      <td>en</td>\n",
       "      <td>True</td>\n",
       "      <td>687917658001246</td>\n",
       "      <td>3.961874e+14</td>\n",
       "      <td>62423919865749</td>\n",
       "      <td>NaN</td>\n",
       "      <td>False</td>\n",
       "    </tr>\n",
       "    <tr>\n",
       "      <th>3</th>\n",
       "      <td>554840011206382</td>\n",
       "      <td>@805230134765227 @718955815577256 So why post ...</td>\n",
       "      <td>0</td>\n",
       "      <td>0</td>\n",
       "      <td>0</td>\n",
       "      <td>0</td>\n",
       "      <td>0</td>\n",
       "      <td>0</td>\n",
       "      <td>2025-09-13 00:12:32+00:00</td>\n",
       "      <td>en</td>\n",
       "      <td>True</td>\n",
       "      <td>149526965769593</td>\n",
       "      <td>8.052301e+14</td>\n",
       "      <td>23702770839054</td>\n",
       "      <td>NaN</td>\n",
       "      <td>False</td>\n",
       "    </tr>\n",
       "    <tr>\n",
       "      <th>4</th>\n",
       "      <td>175456055441216</td>\n",
       "      <td>Here’s a reality of dealing with the death of ...</td>\n",
       "      <td>0</td>\n",
       "      <td>0</td>\n",
       "      <td>0</td>\n",
       "      <td>0</td>\n",
       "      <td>0</td>\n",
       "      <td>0</td>\n",
       "      <td>2025-09-13 00:12:31+00:00</td>\n",
       "      <td>en</td>\n",
       "      <td>False</td>\n",
       "      <td>175456055441216</td>\n",
       "      <td>NaN</td>\n",
       "      <td>686884260868392</td>\n",
       "      <td>NaN</td>\n",
       "      <td>True</td>\n",
       "    </tr>\n",
       "  </tbody>\n",
       "</table>\n",
       "</div>"
      ],
      "text/plain": [
       "         pseudo_id                                               text  \\\n",
       "0  335098644261566  CLEARLY WHY ROBINSO. KILLED CHARLIE KIRK\\nChec...   \n",
       "1  993437939265218  @695242549121979 Charlie Kirk didn’t deserve t...   \n",
       "2   51368227215922  @396187379099632 @576794151260665 Post them he...   \n",
       "3  554840011206382  @805230134765227 @718955815577256 So why post ...   \n",
       "4  175456055441216  Here’s a reality of dealing with the death of ...   \n",
       "\n",
       "   retweetCount  replyCount  likeCount  quoteCount  viewCount  bookmarkCount  \\\n",
       "0             0           0          0           0          0              0   \n",
       "1             0           0          0           0          0              0   \n",
       "2             0           0          0           0          0              0   \n",
       "3             0           0          0           0          0              0   \n",
       "4             0           0          0           0          0              0   \n",
       "\n",
       "                   createdAt lang  isReply  pseudo_conversationId  \\\n",
       "0  2025-09-13 00:12:32+00:00   en    False        335098644261566   \n",
       "1  2025-09-13 00:12:32+00:00   en     True        480787180308238   \n",
       "2  2025-09-13 00:12:32+00:00   en     True        687917658001246   \n",
       "3  2025-09-13 00:12:32+00:00   en     True        149526965769593   \n",
       "4  2025-09-13 00:12:31+00:00   en    False        175456055441216   \n",
       "\n",
       "   pseudo_inReplyToUsername  pseudo_author_userName  quoted_pseudo_id  \\\n",
       "0                       NaN         683805731746893               NaN   \n",
       "1              6.952425e+14         772698505691224               NaN   \n",
       "2              3.961874e+14          62423919865749               NaN   \n",
       "3              8.052301e+14          23702770839054               NaN   \n",
       "4                       NaN         686884260868392               NaN   \n",
       "\n",
       "   author_isBlueVerified  \n",
       "0                  False  \n",
       "1                  False  \n",
       "2                  False  \n",
       "3                  False  \n",
       "4                   True  "
      ]
     },
     "execution_count": 4,
     "metadata": {},
     "output_type": "execute_result"
    }
   ],
   "source": [
    "df.head()"
   ]
  },
  {
   "cell_type": "code",
   "execution_count": 5,
   "id": "70d14aee",
   "metadata": {},
   "outputs": [
    {
     "data": {
      "text/plain": [
       "Index(['author_userName', 'author_createdAt', 'obfuscated_userName',\n",
       "       'author_profile_bio_description', 'author_location', 'author_followers',\n",
       "       'author_following', 'author_isBlueVerified'],\n",
       "      dtype='object')"
      ]
     },
     "execution_count": 5,
     "metadata": {},
     "output_type": "execute_result"
    }
   ],
   "source": [
    "authors_df.columns"
   ]
  },
  {
   "cell_type": "code",
   "execution_count": 6,
   "id": "23967a0a",
   "metadata": {},
   "outputs": [
    {
     "data": {
      "text/html": [
       "<div>\n",
       "<style scoped>\n",
       "    .dataframe tbody tr th:only-of-type {\n",
       "        vertical-align: middle;\n",
       "    }\n",
       "\n",
       "    .dataframe tbody tr th {\n",
       "        vertical-align: top;\n",
       "    }\n",
       "\n",
       "    .dataframe thead th {\n",
       "        text-align: right;\n",
       "    }\n",
       "</style>\n",
       "<table border=\"1\" class=\"dataframe\">\n",
       "  <thead>\n",
       "    <tr style=\"text-align: right;\">\n",
       "      <th></th>\n",
       "      <th>author_userName</th>\n",
       "      <th>author_createdAt</th>\n",
       "      <th>obfuscated_userName</th>\n",
       "      <th>author_profile_bio_description</th>\n",
       "      <th>author_location</th>\n",
       "      <th>author_followers</th>\n",
       "      <th>author_following</th>\n",
       "      <th>author_isBlueVerified</th>\n",
       "    </tr>\n",
       "  </thead>\n",
       "  <tbody>\n",
       "    <tr>\n",
       "      <th>0</th>\n",
       "      <td>01IOTA</td>\n",
       "      <td>2010-11-04 16:20:51+00:00</td>\n",
       "      <td>@292512269517606</td>\n",
       "      <td>Two accounts for two topics\\n@01iota is Christ...</td>\n",
       "      <td>St Johns County, Free Florida</td>\n",
       "      <td>167533</td>\n",
       "      <td>133154</td>\n",
       "      <td>True</td>\n",
       "    </tr>\n",
       "    <tr>\n",
       "      <th>1</th>\n",
       "      <td>0ccultbot</td>\n",
       "      <td>2015-12-19 21:47:37+00:00</td>\n",
       "      <td>@608765984246811</td>\n",
       "      <td>Occult, Esotericism, Symbolism, Secret Societi...</td>\n",
       "      <td>NaN</td>\n",
       "      <td>466752</td>\n",
       "      <td>214</td>\n",
       "      <td>True</td>\n",
       "    </tr>\n",
       "    <tr>\n",
       "      <th>2</th>\n",
       "      <td>0HOUR1__</td>\n",
       "      <td>2015-12-28 01:28:06+00:00</td>\n",
       "      <td>@300496301105995</td>\n",
       "      <td>Live Radio and News\\n\\nTips\\n\\nhttps://t.co/kj...</td>\n",
       "      <td>Cyberspace</td>\n",
       "      <td>179000</td>\n",
       "      <td>1925</td>\n",
       "      <td>True</td>\n",
       "    </tr>\n",
       "    <tr>\n",
       "      <th>3</th>\n",
       "      <td>0liviajulianna</td>\n",
       "      <td>2020-07-23 17:44:45+00:00</td>\n",
       "      <td>@165011622845048</td>\n",
       "      <td>Texas Tough. Big Mouthed Liberal. All opinions...</td>\n",
       "      <td>Houston, TX</td>\n",
       "      <td>322488</td>\n",
       "      <td>6350</td>\n",
       "      <td>True</td>\n",
       "    </tr>\n",
       "    <tr>\n",
       "      <th>4</th>\n",
       "      <td>0rf</td>\n",
       "      <td>2009-06-07 23:32:42+00:00</td>\n",
       "      <td>@28189089601774</td>\n",
       "      <td>Investigative video creator</td>\n",
       "      <td>USA</td>\n",
       "      <td>111043</td>\n",
       "      <td>833</td>\n",
       "      <td>True</td>\n",
       "    </tr>\n",
       "    <tr>\n",
       "      <th>...</th>\n",
       "      <td>...</td>\n",
       "      <td>...</td>\n",
       "      <td>...</td>\n",
       "      <td>...</td>\n",
       "      <td>...</td>\n",
       "      <td>...</td>\n",
       "      <td>...</td>\n",
       "      <td>...</td>\n",
       "    </tr>\n",
       "    <tr>\n",
       "      <th>4237</th>\n",
       "      <td>zoltanspox</td>\n",
       "      <td>2012-01-25 06:55:04+00:00</td>\n",
       "      <td>@925701050163232</td>\n",
       "      <td>🇭🇺 SecState for International Communication, I...</td>\n",
       "      <td>Budapest, Hungary</td>\n",
       "      <td>50876</td>\n",
       "      <td>973</td>\n",
       "      <td>True</td>\n",
       "    </tr>\n",
       "    <tr>\n",
       "      <th>4238</th>\n",
       "      <td>ztisdale</td>\n",
       "      <td>2009-06-25 22:52:55+00:00</td>\n",
       "      <td>@963349738609576</td>\n",
       "      <td>President of Tisdale Analytics. Opinions my own.</td>\n",
       "      <td>NaN</td>\n",
       "      <td>63482</td>\n",
       "      <td>1785</td>\n",
       "      <td>True</td>\n",
       "    </tr>\n",
       "    <tr>\n",
       "      <th>4239</th>\n",
       "      <td>zukunft37</td>\n",
       "      <td>2015-11-28 20:26:55+00:00</td>\n",
       "      <td>@660741261058402</td>\n",
       "      <td>GRUNDRECHTE SIND NICHT VERHANDELBAR!\\nGegen st...</td>\n",
       "      <td>Planet Erde (glaube ich)</td>\n",
       "      <td>50561</td>\n",
       "      <td>13019</td>\n",
       "      <td>True</td>\n",
       "    </tr>\n",
       "    <tr>\n",
       "      <th>4240</th>\n",
       "      <td>zuricht94</td>\n",
       "      <td>2010-05-13 02:02:21+00:00</td>\n",
       "      <td>@426583941451244</td>\n",
       "      <td>ContraCara: La otra verdad. Si el socialismo l...</td>\n",
       "      <td>Zúrich, Suiza</td>\n",
       "      <td>160577</td>\n",
       "      <td>1604</td>\n",
       "      <td>True</td>\n",
       "    </tr>\n",
       "    <tr>\n",
       "      <th>4241</th>\n",
       "      <td>ZuritaCarpio</td>\n",
       "      <td>2009-08-04 00:16:23+00:00</td>\n",
       "      <td>@133305898114883</td>\n",
       "      <td>Hasta cuando bromeo digo la verdad... y no es ...</td>\n",
       "      <td>NaN</td>\n",
       "      <td>87620</td>\n",
       "      <td>26877</td>\n",
       "      <td>True</td>\n",
       "    </tr>\n",
       "  </tbody>\n",
       "</table>\n",
       "<p>4242 rows × 8 columns</p>\n",
       "</div>"
      ],
      "text/plain": [
       "     author_userName           author_createdAt obfuscated_userName  \\\n",
       "0             01IOTA  2010-11-04 16:20:51+00:00    @292512269517606   \n",
       "1          0ccultbot  2015-12-19 21:47:37+00:00    @608765984246811   \n",
       "2           0HOUR1__  2015-12-28 01:28:06+00:00    @300496301105995   \n",
       "3     0liviajulianna  2020-07-23 17:44:45+00:00    @165011622845048   \n",
       "4                0rf  2009-06-07 23:32:42+00:00     @28189089601774   \n",
       "...              ...                        ...                 ...   \n",
       "4237      zoltanspox  2012-01-25 06:55:04+00:00    @925701050163232   \n",
       "4238        ztisdale  2009-06-25 22:52:55+00:00    @963349738609576   \n",
       "4239       zukunft37  2015-11-28 20:26:55+00:00    @660741261058402   \n",
       "4240       zuricht94  2010-05-13 02:02:21+00:00    @426583941451244   \n",
       "4241    ZuritaCarpio  2009-08-04 00:16:23+00:00    @133305898114883   \n",
       "\n",
       "                         author_profile_bio_description  \\\n",
       "0     Two accounts for two topics\\n@01iota is Christ...   \n",
       "1     Occult, Esotericism, Symbolism, Secret Societi...   \n",
       "2     Live Radio and News\\n\\nTips\\n\\nhttps://t.co/kj...   \n",
       "3     Texas Tough. Big Mouthed Liberal. All opinions...   \n",
       "4                           Investigative video creator   \n",
       "...                                                 ...   \n",
       "4237  🇭🇺 SecState for International Communication, I...   \n",
       "4238   President of Tisdale Analytics. Opinions my own.   \n",
       "4239  GRUNDRECHTE SIND NICHT VERHANDELBAR!\\nGegen st...   \n",
       "4240  ContraCara: La otra verdad. Si el socialismo l...   \n",
       "4241  Hasta cuando bromeo digo la verdad... y no es ...   \n",
       "\n",
       "                    author_location  author_followers  author_following  \\\n",
       "0     St Johns County, Free Florida            167533            133154   \n",
       "1                               NaN            466752               214   \n",
       "2                        Cyberspace            179000              1925   \n",
       "3                       Houston, TX            322488              6350   \n",
       "4                               USA            111043               833   \n",
       "...                             ...               ...               ...   \n",
       "4237              Budapest, Hungary             50876               973   \n",
       "4238                            NaN             63482              1785   \n",
       "4239       Planet Erde (glaube ich)             50561             13019   \n",
       "4240                  Zúrich, Suiza            160577              1604   \n",
       "4241                            NaN             87620             26877   \n",
       "\n",
       "      author_isBlueVerified  \n",
       "0                      True  \n",
       "1                      True  \n",
       "2                      True  \n",
       "3                      True  \n",
       "4                      True  \n",
       "...                     ...  \n",
       "4237                   True  \n",
       "4238                   True  \n",
       "4239                   True  \n",
       "4240                   True  \n",
       "4241                   True  \n",
       "\n",
       "[4242 rows x 8 columns]"
      ]
     },
     "execution_count": 6,
     "metadata": {},
     "output_type": "execute_result"
    }
   ],
   "source": [
    "authors_df"
   ]
  },
  {
   "cell_type": "code",
   "execution_count": 7,
   "id": "1ead22cd",
   "metadata": {},
   "outputs": [
    {
     "data": {
      "text/plain": [
       "author_isBlueVerified\n",
       "False    340877\n",
       "True     168077\n",
       "Name: count, dtype: int64"
      ]
     },
     "execution_count": 7,
     "metadata": {},
     "output_type": "execute_result"
    }
   ],
   "source": [
    "df['author_isBlueVerified'].value_counts()"
   ]
  },
  {
   "cell_type": "code",
   "execution_count": 8,
   "id": "89e8c9b5",
   "metadata": {},
   "outputs": [
    {
     "data": {
      "text/html": [
       "<div>\n",
       "<style scoped>\n",
       "    .dataframe tbody tr th:only-of-type {\n",
       "        vertical-align: middle;\n",
       "    }\n",
       "\n",
       "    .dataframe tbody tr th {\n",
       "        vertical-align: top;\n",
       "    }\n",
       "\n",
       "    .dataframe thead th {\n",
       "        text-align: right;\n",
       "    }\n",
       "</style>\n",
       "<table border=\"1\" class=\"dataframe\">\n",
       "  <thead>\n",
       "    <tr style=\"text-align: right;\">\n",
       "      <th></th>\n",
       "      <th>pseudo_id</th>\n",
       "      <th>retweetCount</th>\n",
       "      <th>replyCount</th>\n",
       "      <th>likeCount</th>\n",
       "      <th>quoteCount</th>\n",
       "      <th>viewCount</th>\n",
       "      <th>bookmarkCount</th>\n",
       "      <th>pseudo_conversationId</th>\n",
       "      <th>pseudo_inReplyToUsername</th>\n",
       "      <th>pseudo_author_userName</th>\n",
       "      <th>quoted_pseudo_id</th>\n",
       "    </tr>\n",
       "  </thead>\n",
       "  <tbody>\n",
       "    <tr>\n",
       "      <th>count</th>\n",
       "      <td>5.089540e+05</td>\n",
       "      <td>508954.000000</td>\n",
       "      <td>508954.000000</td>\n",
       "      <td>508954.000000</td>\n",
       "      <td>508954.000000</td>\n",
       "      <td>5.089540e+05</td>\n",
       "      <td>508954.000000</td>\n",
       "      <td>5.089540e+05</td>\n",
       "      <td>2.490920e+05</td>\n",
       "      <td>5.089540e+05</td>\n",
       "      <td>5.735000e+04</td>\n",
       "    </tr>\n",
       "    <tr>\n",
       "      <th>mean</th>\n",
       "      <td>5.001828e+14</td>\n",
       "      <td>13.566753</td>\n",
       "      <td>5.229866</td>\n",
       "      <td>83.488005</td>\n",
       "      <td>1.051099</td>\n",
       "      <td>4.715115e+03</td>\n",
       "      <td>4.912540</td>\n",
       "      <td>5.016162e+14</td>\n",
       "      <td>5.035395e+14</td>\n",
       "      <td>5.011435e+14</td>\n",
       "      <td>5.007986e+14</td>\n",
       "    </tr>\n",
       "    <tr>\n",
       "      <th>std</th>\n",
       "      <td>2.887466e+14</td>\n",
       "      <td>323.516238</td>\n",
       "      <td>149.044612</td>\n",
       "      <td>2113.534007</td>\n",
       "      <td>45.266649</td>\n",
       "      <td>1.695158e+05</td>\n",
       "      <td>159.341835</td>\n",
       "      <td>2.887362e+14</td>\n",
       "      <td>2.917353e+14</td>\n",
       "      <td>2.817860e+14</td>\n",
       "      <td>2.844535e+14</td>\n",
       "    </tr>\n",
       "    <tr>\n",
       "      <th>min</th>\n",
       "      <td>1.281369e+10</td>\n",
       "      <td>0.000000</td>\n",
       "      <td>0.000000</td>\n",
       "      <td>0.000000</td>\n",
       "      <td>0.000000</td>\n",
       "      <td>0.000000e+00</td>\n",
       "      <td>0.000000</td>\n",
       "      <td>1.281369e+10</td>\n",
       "      <td>1.033841e+09</td>\n",
       "      <td>2.614282e+09</td>\n",
       "      <td>9.594408e+10</td>\n",
       "    </tr>\n",
       "    <tr>\n",
       "      <th>25%</th>\n",
       "      <td>2.497579e+14</td>\n",
       "      <td>0.000000</td>\n",
       "      <td>0.000000</td>\n",
       "      <td>0.000000</td>\n",
       "      <td>0.000000</td>\n",
       "      <td>4.500000e+01</td>\n",
       "      <td>0.000000</td>\n",
       "      <td>2.534822e+14</td>\n",
       "      <td>2.607047e+14</td>\n",
       "      <td>2.627215e+14</td>\n",
       "      <td>2.650322e+14</td>\n",
       "    </tr>\n",
       "    <tr>\n",
       "      <th>50%</th>\n",
       "      <td>5.009986e+14</td>\n",
       "      <td>0.000000</td>\n",
       "      <td>0.000000</td>\n",
       "      <td>0.000000</td>\n",
       "      <td>0.000000</td>\n",
       "      <td>8.300000e+01</td>\n",
       "      <td>0.000000</td>\n",
       "      <td>5.009844e+14</td>\n",
       "      <td>4.986923e+14</td>\n",
       "      <td>5.154337e+14</td>\n",
       "      <td>4.892937e+14</td>\n",
       "    </tr>\n",
       "    <tr>\n",
       "      <th>75%</th>\n",
       "      <td>7.495347e+14</td>\n",
       "      <td>0.000000</td>\n",
       "      <td>1.000000</td>\n",
       "      <td>2.000000</td>\n",
       "      <td>0.000000</td>\n",
       "      <td>2.300000e+02</td>\n",
       "      <td>0.000000</td>\n",
       "      <td>7.524995e+14</td>\n",
       "      <td>7.630646e+14</td>\n",
       "      <td>7.385308e+14</td>\n",
       "      <td>7.484905e+14</td>\n",
       "    </tr>\n",
       "    <tr>\n",
       "      <th>max</th>\n",
       "      <td>9.999933e+14</td>\n",
       "      <td>43605.000000</td>\n",
       "      <td>29971.000000</td>\n",
       "      <td>452071.000000</td>\n",
       "      <td>19237.000000</td>\n",
       "      <td>5.793046e+07</td>\n",
       "      <td>32888.000000</td>\n",
       "      <td>9.999911e+14</td>\n",
       "      <td>9.999830e+14</td>\n",
       "      <td>9.999911e+14</td>\n",
       "      <td>9.999934e+14</td>\n",
       "    </tr>\n",
       "  </tbody>\n",
       "</table>\n",
       "</div>"
      ],
      "text/plain": [
       "          pseudo_id   retweetCount     replyCount      likeCount  \\\n",
       "count  5.089540e+05  508954.000000  508954.000000  508954.000000   \n",
       "mean   5.001828e+14      13.566753       5.229866      83.488005   \n",
       "std    2.887466e+14     323.516238     149.044612    2113.534007   \n",
       "min    1.281369e+10       0.000000       0.000000       0.000000   \n",
       "25%    2.497579e+14       0.000000       0.000000       0.000000   \n",
       "50%    5.009986e+14       0.000000       0.000000       0.000000   \n",
       "75%    7.495347e+14       0.000000       1.000000       2.000000   \n",
       "max    9.999933e+14   43605.000000   29971.000000  452071.000000   \n",
       "\n",
       "          quoteCount     viewCount  bookmarkCount  pseudo_conversationId  \\\n",
       "count  508954.000000  5.089540e+05  508954.000000           5.089540e+05   \n",
       "mean        1.051099  4.715115e+03       4.912540           5.016162e+14   \n",
       "std        45.266649  1.695158e+05     159.341835           2.887362e+14   \n",
       "min         0.000000  0.000000e+00       0.000000           1.281369e+10   \n",
       "25%         0.000000  4.500000e+01       0.000000           2.534822e+14   \n",
       "50%         0.000000  8.300000e+01       0.000000           5.009844e+14   \n",
       "75%         0.000000  2.300000e+02       0.000000           7.524995e+14   \n",
       "max     19237.000000  5.793046e+07   32888.000000           9.999911e+14   \n",
       "\n",
       "       pseudo_inReplyToUsername  pseudo_author_userName  quoted_pseudo_id  \n",
       "count              2.490920e+05            5.089540e+05      5.735000e+04  \n",
       "mean               5.035395e+14            5.011435e+14      5.007986e+14  \n",
       "std                2.917353e+14            2.817860e+14      2.844535e+14  \n",
       "min                1.033841e+09            2.614282e+09      9.594408e+10  \n",
       "25%                2.607047e+14            2.627215e+14      2.650322e+14  \n",
       "50%                4.986923e+14            5.154337e+14      4.892937e+14  \n",
       "75%                7.630646e+14            7.385308e+14      7.484905e+14  \n",
       "max                9.999830e+14            9.999911e+14      9.999934e+14  "
      ]
     },
     "execution_count": 8,
     "metadata": {},
     "output_type": "execute_result"
    }
   ],
   "source": [
    "df.describe()"
   ]
  },
  {
   "cell_type": "code",
   "execution_count": 41,
   "id": "f228fe1d",
   "metadata": {},
   "outputs": [
    {
     "data": {
      "image/png": "[encoded data removed]",
      "text/plain": [
       "<Figure size 1200x1200 with 1 Axes>"
      ]
     },
     "metadata": {},
     "output_type": "display_data"
    }
   ],
   "source": [
    "language_counts = df['lang'].value_counts().reset_index(name = 'count').head(10)\n",
    "plt.figure(figsize = (12,12))\n",
    "sns.barplot(data = language_counts, x = 'count', y = 'lang', hue = 'lang')\n",
    "plt.title(\"Number of tweets by language\")\n",
    "plt.xlabel(\"Number of tweets\")\n",
    "plt.ylabel(\"Language\")\n",
    "plt.show()"
   ]
  },
  {
   "cell_type": "code",
   "execution_count": 53,
   "id": "1f5668b9",
   "metadata": {},
   "outputs": [
    {
     "data": {
      "image/png": "[encoded data removed]",
      "text/plain": [
       "<Figure size 1000x1000 with 1 Axes>"
      ]
     },
     "metadata": {},
     "output_type": "display_data"
    },
    {
     "data": {
      "text/plain": [
       "viewCount        4715.114946\n",
       "likeCount          83.488005\n",
       "retweetCount       13.566753\n",
       "replyCount          5.229866\n",
       "bookmarkCount       4.912540\n",
       "quoteCount          1.051099\n",
       "dtype: float64"
      ]
     },
     "execution_count": 53,
     "metadata": {},
     "output_type": "execute_result"
    }
   ],
   "source": [
    "engagement_cols = ['retweetCount', 'replyCount', 'likeCount',\n",
    "       'quoteCount', 'viewCount', 'bookmarkCount']\n",
    "plt.figure(figsize = (10,10))       \n",
    "sns.boxplot(data = df[engagement_cols], orient = 'h', showfliers = False)\n",
    "plt.title(\"Boxplot of engagement metrics\")\n",
    "plt.show()       \n",
    "\n",
    "df[engagement_cols].mean().sort_values(ascending = False)"
   ]
  },
  {
   "cell_type": "code",
   "execution_count": 81,
   "id": "3d9536ec",
   "metadata": {},
   "outputs": [
    {
     "name": "stdout",
     "output_type": "stream",
     "text": [
      "                  createdAt  tweet_count  engagement\n",
      "0 2025-09-11 00:00:00+00:00         1542   86.897536\n",
      "1 2025-09-12 00:00:00+00:00       503057   84.177882\n",
      "2 2025-09-13 00:00:00+00:00         4355    2.591274\n"
     ]
    },
    {
     "data": {
      "text/plain": [
       "[<matplotlib.lines.Line2D at 0x37b7e97f0>]"
      ]
     },
     "execution_count": 81,
     "metadata": {},
     "output_type": "execute_result"
    },
    {
     "data": {
      "image/png": "[encoded data removed]",
      "text/plain": [
       "<Figure size 1000x600 with 2 Axes>"
      ]
     },
     "metadata": {},
     "output_type": "display_data"
    }
   ],
   "source": [
    "daily_activity = (\n",
    "    df.set_index(\"createdAt\")\n",
    "    .resample(\"D\")\n",
    "    .agg(tweet_count=(\"pseudo_id\", \"count\"),\n",
    "         engagement=(\"likeCount\", \"mean\"))\n",
    "    .reset_index()\n",
    ")\n",
    "print(daily_activity)\n",
    "fig, ax1 = plt.subplots(figsize = (10,6))\n",
    "ax2 = ax1.twinx()\n",
    "\n",
    "\n",
    "ax1.plot(daily_activity['createdAt'], daily_activity['tweet_count'], color = 'blue', label = 'Tweet count')\n",
    "ax2.plot(daily_activity['createdAt'], daily_activity['engagement'], color = 'orange', label = 'Total Likes')"
   ]
  },
  {
   "cell_type": "code",
   "execution_count": 10,
   "id": "2a55831b",
   "metadata": {},
   "outputs": [],
   "source": [
    "sentiment_analyzer = SentimentAnalyzer()"
   ]
  },
  {
   "cell_type": "code",
   "execution_count": 11,
   "id": "c664e648",
   "metadata": {},
   "outputs": [],
   "source": [
    "df['text'] = df['text'].str.lower()"
   ]
  },
  {
   "cell_type": "code",
   "execution_count": 12,
   "id": "95af85d8",
   "metadata": {},
   "outputs": [],
   "source": [
    "stemmer = PorterStemmer()\n",
    "df['text'] = df['text'].apply(lambda x : stemmer.stem(x))"
   ]
  },
  {
   "cell_type": "code",
   "execution_count": 13,
   "id": "e79cb052",
   "metadata": {},
   "outputs": [],
   "source": [
    "sia = SentimentIntensityAnalyzer()\n",
    "df['polarity'] = df['text'].apply(lambda x : sia.polarity_scores(x)['compound'])\n"
   ]
  },
  {
   "cell_type": "code",
   "execution_count": 14,
   "id": "343d2c47",
   "metadata": {},
   "outputs": [],
   "source": [
    "df[['neg', 'neu', 'pos', 'compound']] = df['text'].apply(lambda x :pd.Series(sia.polarity_scores(x)))"
   ]
  },
  {
   "cell_type": "code",
   "execution_count": 15,
   "id": "7499393a",
   "metadata": {},
   "outputs": [],
   "source": [
    "df = df.drop(['polarity'], axis = 1 )"
   ]
  },
  {
   "cell_type": "code",
   "execution_count": 27,
   "id": "81833bcd",
   "metadata": {},
   "outputs": [],
   "source": [
    "def sentiment(score):\n",
    "    if score >= 0.05:\n",
    "        return \"Positive\"\n",
    "    if score <= -0.05:\n",
    "        return \"Negative\"\n",
    "    else:\n",
    "        return \"Neutral\"        "
   ]
  },
  {
   "cell_type": "code",
   "execution_count": 28,
   "id": "989ee059",
   "metadata": {},
   "outputs": [],
   "source": [
    "df['sentiment'] = df['compound'].apply(sentiment)"
   ]
  },
  {
   "cell_type": "code",
   "execution_count": 35,
   "id": "538d63aa",
   "metadata": {},
   "outputs": [
    {
     "data": {
      "image/png": "[encoded data removed]",
      "text/plain": [
       "<Figure size 800x800 with 1 Axes>"
      ]
     },
     "metadata": {},
     "output_type": "display_data"
    }
   ],
   "source": [
    "plt.figure(figsize = (8,8))\n",
    "sns.countplot(data = df, x = df['sentiment'], hue = df['sentiment'])\n",
    "plt.title(\"Sentiment distribution\")\n",
    "plt.xlabel(\"Sentiment_Type\")\n",
    "plt.ylabel(\"Count\")\n",
    "plt.show()"
   ]
  },
  {
   "cell_type": "code",
   "execution_count": 18,
   "id": "9c8ec222",
   "metadata": {},
   "outputs": [
    {
     "data": {
      "text/plain": [
       "0        2025-09-13 00:12:32+00:00\n",
       "1        2025-09-13 00:12:32+00:00\n",
       "2        2025-09-13 00:12:32+00:00\n",
       "3        2025-09-13 00:12:32+00:00\n",
       "4        2025-09-13 00:12:31+00:00\n",
       "                    ...           \n",
       "508949   2025-09-11 23:55:57+00:00\n",
       "508950   2025-09-11 23:55:57+00:00\n",
       "508951   2025-09-11 23:55:57+00:00\n",
       "508952   2025-09-11 23:55:57+00:00\n",
       "508953   2025-09-11 23:55:56+00:00\n",
       "Name: createdAt, Length: 508954, dtype: datetime64[ns, UTC]"
      ]
     },
     "execution_count": 18,
     "metadata": {},
     "output_type": "execute_result"
    }
   ],
   "source": [
    "df['createdAt'] = pd.to_datetime(df['createdAt'], format = \"mixed\")\n",
    "df['createdAt']"
   ]
  },
  {
   "cell_type": "code",
   "execution_count": 19,
   "id": "2736813c",
   "metadata": {},
   "outputs": [
    {
     "data": {
      "text/plain": [
       "0         2025-09-13\n",
       "1         2025-09-13\n",
       "2         2025-09-13\n",
       "3         2025-09-13\n",
       "4         2025-09-13\n",
       "             ...    \n",
       "508949    2025-09-11\n",
       "508950    2025-09-11\n",
       "508951    2025-09-11\n",
       "508952    2025-09-11\n",
       "508953    2025-09-11\n",
       "Name: date, Length: 508954, dtype: object"
      ]
     },
     "execution_count": 19,
     "metadata": {},
     "output_type": "execute_result"
    }
   ],
   "source": [
    "df['date'] = df['createdAt'].dt.date\n",
    "df['date']"
   ]
  },
  {
   "cell_type": "code",
   "execution_count": 20,
   "id": "a1135b82",
   "metadata": {},
   "outputs": [],
   "source": [
    "df['day'] = df['createdAt'].dt.day"
   ]
  },
  {
   "cell_type": "code",
   "execution_count": 21,
   "id": "879f9bcf",
   "metadata": {},
   "outputs": [],
   "source": [
    "df['hour'] = df['createdAt'].dt.hour"
   ]
  },
  {
   "cell_type": "code",
   "execution_count": 25,
   "id": "b2d5e6b6",
   "metadata": {},
   "outputs": [
    {
     "data": {
      "image/png": "[encoded data removed]",
      "text/plain": [
       "<Figure size 1200x1000 with 1 Axes>"
      ]
     },
     "metadata": {},
     "output_type": "display_data"
    }
   ],
   "source": [
    "df['datetime_hour'] = pd.to_datetime(df['date']) + pd.to_timedelta(df['hour'], unit='h')\n",
    "tweets_per_hour = df.groupby('datetime_hour').size().reset_index(name='count')\n",
    "\n",
    "# Plot\n",
    "plt.figure(figsize=(12, 10))\n",
    "sns.barplot(data=tweets_per_hour, x='datetime_hour', y='count')\n",
    "plt.xlabel('Date and Hour')\n",
    "plt.ylabel('Number of Tweets')\n",
    "plt.title('Tweets Over Time')\n",
    "plt.xticks(rotation=45)\n",
    "plt.tight_layout()\n",
    "plt.show()"
   ]
  },
  {
   "cell_type": "code",
   "execution_count": null,
   "id": "85addb52",
   "metadata": {},
   "outputs": [],
   "source": []
  }
 ],
 "metadata": {
  "kernelspec": {
   "display_name": "nlp_env",
   "language": "python",
   "name": "python3"
  },
  "language_info": {
   "codemirror_mode": {
    "name": "ipython",
    "version": 3
   },
   "file_extension": ".py",
   "mimetype": "text/x-python",
   "name": "python",
   "nbconvert_exporter": "python",
   "pygments_lexer": "ipython3",
   "version": "3.14.0"
  }
 },
 "nbformat": 4,
 "nbformat_minor": 5
}
